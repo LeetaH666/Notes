{
 "cells": [
  {
   "cell_type": "code",
   "execution_count": 32,
   "metadata": {},
   "outputs": [],
   "source": [
    "import numpy as np\n",
    "import pandas as pd"
   ]
  },
  {
   "cell_type": "code",
   "execution_count": 66,
   "metadata": {},
   "outputs": [
    {
     "data": {
      "text/plain": [
       "0       1.114909\n",
       "1       1.188212\n",
       "2       1.418045\n",
       "3      -0.367690\n",
       "4       0.248814\n",
       "          ...   \n",
       "2997    1.567135\n",
       "2998    1.008611\n",
       "2999    0.198971\n",
       "3000    1.114909\n",
       "3001    1.114909\n",
       "Length: 3002, dtype: float64"
      ]
     },
     "execution_count": 66,
     "metadata": {},
     "output_type": "execute_result"
    }
   ],
   "source": [
    "seed = 114514\n",
    "np.random.seed(seed)\n",
    "n = 3000\n",
    "\n",
    "z = np.random.randn(n)\n",
    "z = np.append(z, (z[0], z[0])) # 添加2个大小相等的值\n",
    "z = pd.Series(z)\n",
    "z"
   ]
  },
  {
   "cell_type": "code",
   "execution_count": 67,
   "metadata": {},
   "outputs": [
    {
     "data": {
      "text/plain": [
       "0       2579.0\n",
       "1       2616.0\n",
       "2       2745.0\n",
       "3       1081.0\n",
       "4       1785.0\n",
       "         ...  \n",
       "2997    2818.0\n",
       "2998    2504.0\n",
       "2999    1730.0\n",
       "3000    2579.0\n",
       "3001    2579.0\n",
       "Length: 3002, dtype: float64"
      ]
     },
     "execution_count": 67,
     "metadata": {},
     "output_type": "execute_result"
    }
   ],
   "source": [
    "z_rank = z.rank(method='average') # 如果有相等的值，排名取平均数\n",
    "# 比如有2个最小值，则在1和2中取平均，得到1.5；有3个最小值，在1、2、3中取平均，得到2\n",
    "z_rank"
   ]
  },
  {
   "cell_type": "code",
   "execution_count": 68,
   "metadata": {},
   "outputs": [
    {
     "data": {
      "text/plain": [
       "0       0.859380\n",
       "1       0.871709\n",
       "2       0.914695\n",
       "3       0.360213\n",
       "4       0.594802\n",
       "          ...   \n",
       "2997    0.939020\n",
       "2998    0.834389\n",
       "2999    0.576475\n",
       "3000    0.859380\n",
       "3001    0.859380\n",
       "Length: 3002, dtype: float64"
      ]
     },
     "execution_count": 68,
     "metadata": {},
     "output_type": "execute_result"
    }
   ],
   "source": [
    "z_scale = z_rank / (n + 1)\n",
    "# z_scale = z_rank / n\n",
    "z_scale"
   ]
  },
  {
   "cell_type": "code",
   "execution_count": 69,
   "metadata": {},
   "outputs": [
    {
     "data": {
      "text/plain": [
       "0.5003332222592469"
      ]
     },
     "execution_count": 69,
     "metadata": {},
     "output_type": "execute_result"
    }
   ],
   "source": [
    "z_scale.mean()"
   ]
  },
  {
   "cell_type": "code",
   "execution_count": 70,
   "metadata": {},
   "outputs": [
    {
     "data": {
      "text/plain": [
       "0       0.359047\n",
       "1       0.371376\n",
       "2       0.414362\n",
       "3      -0.140120\n",
       "4       0.094469\n",
       "          ...   \n",
       "2997    0.438687\n",
       "2998    0.334055\n",
       "2999    0.076141\n",
       "3000    0.359047\n",
       "3001    0.359047\n",
       "Length: 3002, dtype: float64"
      ]
     },
     "execution_count": 70,
     "metadata": {},
     "output_type": "execute_result"
    }
   ],
   "source": [
    "z_demean = z_scale - z_scale.mean()\n",
    "z_demean"
   ]
  },
  {
   "cell_type": "code",
   "execution_count": 77,
   "metadata": {},
   "outputs": [
    {
     "data": {
      "text/plain": [
       "1596         NaN\n",
       "110     0.000333\n",
       "762     0.000333\n",
       "972     0.000333\n",
       "2674    0.000333\n",
       "          ...   \n",
       "1984    0.000333\n",
       "2315    0.000333\n",
       "2333    0.000333\n",
       "1440    0.000333\n",
       "2017    0.000333\n",
       "Length: 3002, dtype: float64"
      ]
     },
     "execution_count": 77,
     "metadata": {},
     "output_type": "execute_result"
    }
   ],
   "source": [
    "z_demean.sort_values().diff()"
   ]
  },
  {
   "cell_type": "code",
   "execution_count": 85,
   "metadata": {},
   "outputs": [
    {
     "name": "stdout",
     "output_type": "stream",
     "text": [
      "sum (net exposure): -1.9984014443252818e-14\n",
      "abs_sum (gross_exposure): 750.7500833055649\n",
      "max: 0.5\n",
      "min: -0.5\n",
      "var: 0.08341665733032394\n"
     ]
    }
   ],
   "source": [
    "print('sum (net exposure):', z_demean.sum())\n",
    "print('abs_sum (gross_exposure):', z_demean.abs().sum())\n",
    "print('max:', z_demean.max())\n",
    "print('min:', z_demean.min())\n",
    "print('var:', z_demean.var())"
   ]
  },
  {
   "cell_type": "code",
   "execution_count": 79,
   "metadata": {},
   "outputs": [
    {
     "data": {
      "text/plain": [
       "0       0.000478\n",
       "1       0.000495\n",
       "2       0.000552\n",
       "3      -0.000187\n",
       "4       0.000126\n",
       "          ...   \n",
       "2997    0.000584\n",
       "2998    0.000445\n",
       "2999    0.000101\n",
       "3000    0.000478\n",
       "3001    0.000478\n",
       "Length: 3002, dtype: float64"
      ]
     },
     "execution_count": 79,
     "metadata": {},
     "output_type": "execute_result"
    }
   ],
   "source": [
    "z_zero_sum = z_demean / z_demean.abs().sum()\n",
    "z_zero_sum"
   ]
  },
  {
   "cell_type": "code",
   "execution_count": 82,
   "metadata": {},
   "outputs": [
    {
     "name": "stdout",
     "output_type": "stream",
     "text": [
      "sum: -2.42861286636753e-17\n",
      "max: 0.0006660005920991601\n",
      "min: -0.0006660005920991601\n",
      "var: 1.4800009859024338e-07\n"
     ]
    }
   ],
   "source": [
    "print('sum:', z_zero_sum.sum())\n",
    "print('max:', z_zero_sum.max())\n",
    "print('min:', z_zero_sum.min())\n",
    "print('var:', z_zero_sum.var())"
   ]
  }
 ],
 "metadata": {
  "kernelspec": {
   "display_name": "quant",
   "language": "python",
   "name": "python3"
  },
  "language_info": {
   "codemirror_mode": {
    "name": "ipython",
    "version": 3
   },
   "file_extension": ".py",
   "mimetype": "text/x-python",
   "name": "python",
   "nbconvert_exporter": "python",
   "pygments_lexer": "ipython3",
   "version": "3.8.15"
  },
  "orig_nbformat": 4
 },
 "nbformat": 4,
 "nbformat_minor": 2
}
